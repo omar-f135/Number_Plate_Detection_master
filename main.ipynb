{
 "metadata": {
  "language_info": {
   "codemirror_mode": {
    "name": "ipython",
    "version": 3
   },
   "file_extension": ".py",
   "mimetype": "text/x-python",
   "name": "python",
   "nbconvert_exporter": "python",
   "pygments_lexer": "ipython3",
   "version": "3.7.4-final"
  },
  "orig_nbformat": 2,
  "kernelspec": {
   "name": "python3",
   "display_name": "Python 3.7.4 64-bit (conda)",
   "metadata": {
    "interpreter": {
     "hash": "f99de020b342f6398c2daa900581ba139c9d64acb9dee4fdd8018694687cc700"
    }
   }
  }
 },
 "nbformat": 4,
 "nbformat_minor": 2,
 "cells": [
  {
   "cell_type": "code",
   "execution_count": null,
   "metadata": {},
   "outputs": [],
   "source": [
    "import pandas as pd\n",
    "import urllib\n",
    "import matplotlib.pyplot as plt\n",
    "import numpy as np\n",
    "import cv2\n",
    "import glob\n",
    "import os\n",
    "import time\n",
    "from PIL import Image\n",
    "\n",
    "from keras.applications.vgg16 import VGG16\n",
    "from keras.layers import Flatten, Dense, Conv2D, MaxPooling2D, Input, Dropout\n",
    "from keras.models import Model, Sequential\n",
    "from keras.preprocessing.image import ImageDataGenerator\n",
    "from keras.optimizers import Adam\n",
    "df = pd.read_json(\"Indian_Number_plates.json\", lines=True)"
   ]
  },
  {
   "cell_type": "code",
   "execution_count": null,
   "metadata": {},
   "outputs": [],
   "source": [
    "dataset = dict()\n",
    "dataset[\"image_name\"] = list()\n",
    "dataset[\"image_width\"] = list()\n",
    "dataset[\"image_height\"] = list()\n",
    "dataset[\"top_x\"] = list()\n",
    "dataset[\"top_y\"] = list()\n",
    "dataset[\"bottom_x\"] = list()\n",
    "dataset[\"bottom_y\"] = list()\n",
    "\n",
    "counter = 0\n",
    "for index, row in df.iterrows():\n",
    "    img = urllib.request.urlopen(row[\"content\"])\n",
    "    img = Image.open(img)\n",
    "    img = img.convert('RGB')\n",
    "    img.save(\"Indian Number Plates/licensed_car{}.jpeg\".format(counter), \"JPEG\")\n",
    "    \n",
    "    dataset[\"image_name\"].append(\"licensed_car{}\".format(counter))\n",
    "    \n",
    "    data = row[\"annotation\"]\n",
    "    \n",
    "    dataset[\"image_width\"].append(data[0][\"imageWidth\"])\n",
    "    dataset[\"image_height\"].append(data[0][\"imageHeight\"])\n",
    "    dataset[\"top_x\"].append(data[0][\"points\"][0][\"x\"])\n",
    "    dataset[\"top_y\"].append(data[0][\"points\"][0][\"y\"])\n",
    "    dataset[\"bottom_x\"].append(data[0][\"points\"][1][\"x\"])\n",
    "    dataset[\"bottom_y\"].append(data[0][\"points\"][1][\"y\"])\n",
    "    \n",
    "    counter += 1\n",
    "print(\"Downloaded {} car images.\".format(counter))"
   ]
  },
  {
   "cell_type": "code",
   "execution_count": null,
   "metadata": {},
   "outputs": [],
   "source": [
    "df = pd.DataFrame(dataset)\n",
    "df.to_csv(\"indian_license_plates.csv\", index=False)\n",
    "df = pd.read_csv(\"indian_license_plates.csv\")\n",
    "df[\"image_name\"] = df[\"image_name\"] + \".jpeg\"\n",
    "df.drop([\"image_width\", \"image_height\"], axis=1, inplace=True)\n",
    "df.head()"
   ]
  },
  {
   "cell_type": "code",
   "execution_count": null,
   "metadata": {},
   "outputs": [],
   "source": [
    "lucky_test_samples = np.random.randint(0, len(df), 5)\n",
    "reduced_df = df.drop(lucky_test_samples, axis=0)\n",
    "\n",
    "WIDTH = 224\n",
    "HEIGHT = 224\n",
    "CHANNEL = 3\n",
    "\n",
    "def show_img(index):\n",
    "    image = cv2.imread(\"Indian Number Plates/\" + df[\"image_name\"].iloc[index])\n",
    "    image = cv2.cvtColor(image, cv2.COLOR_BGR2RGB)\n",
    "    image = cv2.resize(image, dsize=(WIDTH, HEIGHT))\n",
    "\n",
    "    tx = int(df[\"top_x\"].iloc[index] * WIDTH)\n",
    "    ty = int(df[\"top_y\"].iloc[index] * HEIGHT)\n",
    "    bx = int(df[\"bottom_x\"].iloc[index] * WIDTH)\n",
    "    by = int(df[\"bottom_y\"].iloc[index] * HEIGHT)\n",
    "\n",
    "    image = cv2.rectangle(image, (tx, ty), (bx, by), (0, 0, 255), 1)"
   ]
  },
  {
   "cell_type": "code",
   "execution_count": null,
   "metadata": {},
   "outputs": [],
   "source": [
    "datagen = ImageDataGenerator(rescale=1./255, validation_split=0.1)\n",
    "\n",
    "train_generator = datagen.flow_from_dataframe(\n",
    "    reduced_df,\n",
    "    directory=\"Indian Number Plates/\",\n",
    "    x_col=\"image_name\",\n",
    "    y_col=[\"top_x\", \"top_y\", \"bottom_x\", \"bottom_y\"],\n",
    "    target_size=(WIDTH, HEIGHT),\n",
    "    batch_size=32, \n",
    "    class_mode=\"other\",\n",
    "    subset=\"training\")\n",
    "\n",
    "validation_generator = datagen.flow_from_dataframe(\n",
    "    reduced_df,\n",
    "    directory=\"Indian Number Plates/\",\n",
    "    x_col=\"image_name\",\n",
    "    y_col=[\"top_x\", \"top_y\", \"bottom_x\", \"bottom_y\"],\n",
    "    target_size=(WIDTH, HEIGHT),\n",
    "    batch_size=32, \n",
    "    class_mode=\"other\",\n",
    "    subset=\"validation\")"
   ]
  },
  {
   "cell_type": "code",
   "execution_count": null,
   "metadata": {},
   "outputs": [],
   "source": [
    "model = Sequential()\n",
    "model.add(VGG16(weights=\"imagenet\", include_top=False, input_shape=(HEIGHT, WIDTH, CHANNEL)))\n",
    "model.add(Flatten())\n",
    "model.add(Dense(128, activation=\"relu\"))\n",
    "model.add(Dense(64, activation=\"relu\"))\n",
    "model.add(Dense(64, activation=\"relu\"))\n",
    "model.add(Dense(4, activation=\"sigmoid\"))\n",
    "model.layers[-6].trainable = False\n",
    "model.summary()"
   ]
  },
  {
   "cell_type": "code",
   "execution_count": null,
   "metadata": {},
   "outputs": [],
   "source": [
    "\n",
    "STEP_SIZE_TRAIN = int(np.ceil(train_generator.n / train_generator.batch_size))\n",
    "STEP_SIZE_VAL = int(np.ceil(validation_generator.n / validation_generator.batch_size))\n",
    "\n",
    "print(\"Train step size:\", STEP_SIZE_TRAIN)\n",
    "print(\"Validation step size:\", STEP_SIZE_VAL)\n",
    "\n",
    "train_generator.reset()\n",
    "validation_generator.reset()"
   ]
  },
  {
   "cell_type": "code",
   "execution_count": null,
   "metadata": {},
   "outputs": [],
   "source": [
    "adam = Adam(lr=0.0005)\n",
    "model.compile(optimizer=adam, loss=\"mse\")\n",
    "history = model.fit_generator(train_generator,\n",
    "    steps_per_epoch=STEP_SIZE_TRAIN,\n",
    "    validation_data=validation_generator,\n",
    "    validation_steps=STEP_SIZE_VAL,\n",
    "    epochs=30)"
   ]
  },
  {
   "cell_type": "code",
   "execution_count": null,
   "metadata": {},
   "outputs": [],
   "source": [
    "\n",
    "model.evaluate_generator(validation_generator, steps=STEP_SIZE_VAL)\n",
    "for idx, row in df.iloc[lucky_test_samples].iterrows():    \n",
    "    img = cv2.resize(cv2.imread(\"Indian Number Plates/\" + row[0]) / 255.0, dsize=(WIDTH, HEIGHT))\n",
    "    y_hat = model.predict(img.reshape(1, WIDTH, HEIGHT, 3)).reshape(-1) * WIDTH\n",
    "    \n",
    "    xt, yt = y_hat[0], y_hat[1]\n",
    "    xb, yb = y_hat[2], y_hat[3]\n",
    "    \n",
    "    img = cv2.cvtColor(img.astype(np.float32), cv2.COLOR_BGR2RGB)\n",
    "    image = cv2.rectangle(img, (xt, yt), (xb, yb), (0, 0, 255), 1)\n",
    "    plt.imshow(image)\n",
    "    plt.show()"
   ]
  }
 ]
}